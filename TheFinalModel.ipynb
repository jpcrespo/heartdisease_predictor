{
 "cells": [
  {
   "cell_type": "code",
   "execution_count": 14,
   "metadata": {},
   "outputs": [
    {
     "name": "stdout",
     "output_type": "stream",
     "text": [
      "Stacking Model - Accuracy: 0.8852\n",
      "Stacking Model - Precision: 0.8421\n",
      "Stacking Model - Recall: 0.9697\n",
      "Stacking Model - F1 Score: 0.9014\n"
     ]
    }
   ],
   "source": [
    "import seaborn as sns\n",
    "import matplotlib.pyplot as plt\n",
    "import pandas as pd\n",
    "import numpy as np\n",
    "from sklearn.model_selection import train_test_split, StratifiedKFold, cross_val_score, RandomizedSearchCV\n",
    "from sklearn.tree import DecisionTreeClassifier\n",
    "from sklearn.ensemble import RandomForestClassifier, StackingClassifier\n",
    "from sklearn.naive_bayes import GaussianNB\n",
    "from sklearn.svm import SVC\n",
    "from sklearn.neighbors import KNeighborsClassifier\n",
    "from xgboost import XGBClassifier\n",
    "from sklearn.linear_model import LogisticRegression\n",
    "from sklearn.metrics import accuracy_score, precision_score, recall_score, f1_score\n",
    "\n",
    "# Cargar tus datos\n",
    "data = pd.read_csv('dataset.csv')\n",
    "target = 'target'  # Reemplaza esto con el nombre de tu columna objetivo\n",
    "\n",
    "# Preprocesamiento\n",
    "from app.data_prepross import preprocess\n",
    "X, y = preprocess(data)\n",
    "\n",
    "# Separar el conjunto de datos en entrenamiento y validación\n",
    "X_train, X_val, y_train, y_val = train_test_split(X, y, test_size=0.2, stratify=y, random_state=42)\n",
    "\n",
    "# Definir los modelos base con los mejores hiperparámetros encontrados\n",
    "estimators = [\n",
    "    ('decision_tree', DecisionTreeClassifier(max_depth=30, min_samples_split=2, min_samples_leaf=2)),\n",
    "    ('random_forest', RandomForestClassifier(n_estimators=100, max_depth=20, min_samples_split=2, min_samples_leaf=1, bootstrap=True, random_state=42, n_jobs=-1)),\n",
    "    ('naive_bayes', GaussianNB()),\n",
    "    ('svc', SVC(C=0.1, gamma=1, kernel='poly', probability=True)),\n",
    "    ('knn', KNeighborsClassifier(n_neighbors=5, weights='uniform', metric='manhattan', n_jobs=-1)),\n",
    "    ('xgboost', XGBClassifier(n_estimators=200, learning_rate=0.01, max_depth=3, subsample=0.6, colsample_bytree=0.6, n_jobs=-1))\n",
    "]\n",
    "\n",
    "# Ajuste de hiperparámetros para el modelo meta RandomForestClassifier\n",
    "param_grid = {\n",
    "    'n_estimators': [50, 100, 200,500],\n",
    "    'max_depth': [None, 10, 20, 30,40],\n",
    "    'min_samples_split': [2, 5, 10,20],\n",
    "    'min_samples_leaf': [1, 2, 4,6],\n",
    "    'bootstrap': [True, False]\n",
    "}\n",
    "\n",
    "meta_model = RandomForestClassifier(random_state=42)\n",
    "\n",
    "# Ajuste de hiperparámetros\n",
    "grid_search = RandomizedSearchCV(estimator=meta_model, param_distributions=param_grid, cv=5, n_jobs=-1, scoring='accuracy', random_state=42)\n",
    "grid_search.fit(X_train, y_train)\n",
    "\n",
    "# Mejor modelo meta\n",
    "best_meta_model = grid_search.best_estimator_\n",
    "\n",
    "# Crear el modelo de stacking\n",
    "stacking_model = StackingClassifier(estimators=estimators, final_estimator=best_meta_model, n_jobs=-1)\n",
    "\n",
    "# Entrenar el modelo de stacking usando todos los datos de entrenamiento\n",
    "stacking_model.fit(X_train, y_train)\n",
    "\n",
    "# Evaluar el rendimiento del modelo de stacking en el conjunto de validación\n",
    "y_pred = stacking_model.predict(X_val)\n",
    "accuracy = accuracy_score(y_val, y_pred)\n",
    "precision = precision_score(y_val, y_pred)\n",
    "recall = recall_score(y_val, y_pred)\n",
    "f1 = f1_score(y_val, y_pred)\n",
    "\n",
    "print(f\"Stacking Model - Accuracy: {accuracy:.4f}\")\n",
    "print(f\"Stacking Model - Precision: {precision:.4f}\")\n",
    "print(f\"Stacking Model - Recall: {recall:.4f}\")\n",
    "print(f\"Stacking Model - F1 Score: {f1:.4f}\")\n"
   ]
  }
 ],
 "metadata": {
  "kernelspec": {
   "display_name": ".venv",
   "language": "python",
   "name": "python3"
  },
  "language_info": {
   "codemirror_mode": {
    "name": "ipython",
    "version": 3
   },
   "file_extension": ".py",
   "mimetype": "text/x-python",
   "name": "python",
   "nbconvert_exporter": "python",
   "pygments_lexer": "ipython3",
   "version": "3.10.11"
  }
 },
 "nbformat": 4,
 "nbformat_minor": 2
}
